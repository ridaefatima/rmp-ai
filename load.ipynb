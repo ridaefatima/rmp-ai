{
 "cells": [
  {
   "cell_type": "code",
   "execution_count": 55,
   "metadata": {},
   "outputs": [
    {
     "data": {
      "text/plain": [
       "False"
      ]
     },
     "execution_count": 55,
     "metadata": {},
     "output_type": "execute_result"
    }
   ],
   "source": [
    "import os\n",
    "import json\n",
    "import requests\n",
    "import pinecone\n",
    "from dotenv import load_dotenv\n",
    "\n",
    "# Load environment variables from .env file\n",
    "load_dotenv()"
   ]
  },
  {
   "cell_type": "code",
   "execution_count": 57,
   "metadata": {},
   "outputs": [
    {
     "name": "stdout",
     "output_type": "stream",
     "text": [
      "Upsert operation completed successfully.\n",
      "{'dimension': 384,\n",
      " 'index_fullness': 0.0,\n",
      " 'namespaces': {},\n",
      " 'total_vector_count': 0}\n"
     ]
    }
   ],
   "source": [
    "\n",
    "\n",
    "# Initialize Pinecone client\n",
    "pinecone_client = pinecone.Pinecone(\n",
    "    api_key=os.getenv(\"PINECONE_API_KEY\"),\n",
    "    environment='us-east1-gcp'\n",
    ")\n",
    "\n",
    "# Define index name\n",
    "index_name = \"rag\"\n",
    "\n",
    "# Check if the index exists, if not, create it\n",
    "if index_name not in pinecone_client.list_indexes():\n",
    "    pinecone_client.create_index(\n",
    "        name=index_name,\n",
    "        dimension=384,  # Ensure this matches your embedding dimension\n",
    "        metric=\"cosine\",\n",
    "        spec=pinecone.ServerlessSpec(cloud=\"aws\", region=\"us-east-1\")\n",
    "    )\n",
    "\n",
    "# Connect to the Pinecone index\n",
    "index = pinecone_client.Index(index_name)\n",
    "\n",
    "# Load the JSON data from the reviews.json file\n",
    "with open(\"reviews.json\", \"r\") as file:\n",
    "    data = json.load(file)\n",
    "\n",
    "# Extract the reviews list from the data\n",
    "reviews = [review['review'] for review in data['reviews']]\n",
    "\n",
    "# Hugging Face API details\n",
    "model_id = \"sentence-transformers/all-MiniLM-L6-v2\"\n",
    "hf_token = os.getenv(\"HUGGINGFACE_API_KEY\")\n",
    "api_url = f\"https://api-inference.huggingface.co/pipeline/feature-extraction/{model_id}\"\n",
    "headers = {\"Authorization\": f\"Bearer {hf_token}\"}\n",
    "\n",
    "# Get embeddings for the reviews\n",
    "response = requests.post(api_url, headers=headers, json={\"inputs\": reviews, \"options\": {\"wait_for_model\": True}})\n",
    "embeddings = response.json()\n",
    "\n",
    "# Ensure embeddings are valid and have the correct structure\n",
    "if not isinstance(embeddings, list) or not all(isinstance(e, list) for e in embeddings):\n",
    "    raise ValueError(\"Invalid embeddings format received from Hugging Face.\")\n",
    "\n",
    "# Prepare the data for Pinecone\n",
    "processed_data = [\n",
    "    {\n",
    "        \"id\": f\"review-{i}\",\n",
    "        \"values\": embedding,  # Embeddings should be a list of floats\n",
    "        \"metadata\": {\n",
    "            \"review\": data['reviews'][i]['review'],\n",
    "            \"professor\": data['reviews'][i]['professor'],\n",
    "            \"subject\": data['reviews'][i]['subject'],\n",
    "            \"stars\": data['reviews'][i]['stars']\n",
    "        }\n",
    "    }\n",
    "    for i, embedding in enumerate(embeddings)\n",
    "]\n",
    "\n",
    "# Upsert the processed data into Pinecone\n",
    "try:\n",
    "    index.upsert(\n",
    "        vectors=processed_data,\n",
    "        namespace=\"ns1\"\n",
    "    )\n",
    "    print(\"Upsert operation completed successfully.\")\n",
    "except Exception as e:\n",
    "    print(f\"Error during upsert operation: {e}\")\n",
    "\n",
    "# Describe and print the index stats\n",
    "stats = index.describe_index_stats()\n",
    "print(stats)\n"
   ]
  },
  {
   "cell_type": "markdown",
   "metadata": {},
   "source": []
  },
  {
   "cell_type": "markdown",
   "metadata": {},
   "source": []
  }
 ],
 "metadata": {
  "kernelspec": {
   "display_name": "rag",
   "language": "python",
   "name": "python3"
  },
  "language_info": {
   "codemirror_mode": {
    "name": "ipython",
    "version": 3
   },
   "file_extension": ".py",
   "mimetype": "text/x-python",
   "name": "python",
   "nbconvert_exporter": "python",
   "pygments_lexer": "ipython3",
   "version": "3.10.14"
  }
 },
 "nbformat": 4,
 "nbformat_minor": 2
}
